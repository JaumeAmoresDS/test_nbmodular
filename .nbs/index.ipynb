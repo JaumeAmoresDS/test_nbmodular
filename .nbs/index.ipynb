{
 "cells": [
  {
   "cell_type": "code",
   "execution_count": 0,
   "metadata": {},
   "outputs": [],
   "source": [
    "#|default_exp index"
   ]
  },
  {
   "cell_type": "code",
   "execution_count": 4,
   "metadata": {},
   "outputs": [
    {
     "name": "stdout",
     "output_type": "stream",
     "text": [
      "The result of adding 2+3 is 5\n"
     ]
    }
   ],
   "source": [
    "#|export\n",
    "#@@function two_plus_three\n",
    "def two_plus_three(a, b, print, c):\n",
    "    a = 2\n",
    "    b = 3\n",
    "    c = a+b\n",
    "    print (f'The result of adding {a}+{b} is {c}')\n"
   ]
  }
 ],
 "metadata": {
  "kernelspec": {
   "display_name": "python3",
   "language": "python",
   "name": "python3"
  },
  "language_info": {
   "codemirror_mode": {
    "name": "ipython",
    "version": 3
   },
   "file_extension": ".py",
   "mimetype": "text/x-python",
   "name": "python",
   "nbconvert_exporter": "python",
   "pygments_lexer": "ipython3",
   "version": "3.10.14"
  }
 },
 "nbformat": 4,
 "nbformat_minor": 4
}
